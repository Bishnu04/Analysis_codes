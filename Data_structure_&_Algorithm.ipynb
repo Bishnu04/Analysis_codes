{
 "cells": [
  {
   "cell_type": "code",
   "execution_count": null,
   "metadata": {},
   "outputs": [],
   "source": [
    "#Data Structure and Algorithms course 2019|\n",
    "# DSA Tutorial..................36....\n",
    "# DECEMBER 2019"
   ]
  },
  {
   "cell_type": "code",
   "execution_count": null,
   "metadata": {},
   "outputs": [],
   "source": [
    "# Data are the raw fact, unorganaized facts that need to be processed.\n",
    "#Data can be something simple and seemingly rsndom\n",
    "# and useless until it is organized.\n",
    "#After processing the data will be stored in the organized form\n",
    "# the data will be prossessed or organized or in the structured way we provide a story\n",
    "# Then this genertes the information"
   ]
  },
  {
   "cell_type": "code",
   "execution_count": null,
   "metadata": {},
   "outputs": [],
   "source": [
    "\"\"\"\n",
    "when data is processed , organized, structured or presented in\n",
    " a given context so as to make it useful, it is called \n",
    " information \n",
    "\n",
    "\"\"\" "
   ]
  },
  {
   "cell_type": "code",
   "execution_count": null,
   "metadata": {},
   "outputs": [],
   "source": [
    "\"\"\"\n",
    "Algirithm, Program and Data structure\n",
    "Algorithm outline,the essence of computational procedure, \n",
    "step by step instructions\n",
    "\n",
    "Program an implementation of Algorithm in some programming\n",
    "anguage\n",
    "\n",
    "Data Structure organiztionof data needed to solve problem\n",
    "management of data, to store the data in the memory\n",
    "\n",
    "Note: Algorithm can be expressed using the natural language, flowchart etc\n",
    "\n",
    "Find the difference between the algorithmand that of sudocode.....interview question\n",
    "\"\"\""
   ]
  },
  {
   "cell_type": "markdown",
   "metadata": {},
   "source": [
    "# Types of Data structure"
   ]
  },
  {
   "cell_type": "code",
   "execution_count": 12,
   "metadata": {},
   "outputs": [
    {
     "data": {
      "text/plain": [
       "'\\nData structure is a particular way to store the infofrmation in the computer.\\nSo that we can retrive the information\\n\\n1. Primitive data structure\\n2. Non-primitive data structure ( Or Derived data structure as we derive from primitive)\\n\\nPrimitive  further classified in to ------> int, char, float, pointer\\n\\n\\nNon primitive is further classified in to ----> Array, List, Files\\nList ---> Linear , Non Linear\\n\\nLinear ---> Stack, Queue\\nNon-linear --> Tree, Graph\\n\\n\\n\\n\\n\\n'"
      ]
     },
     "execution_count": 12,
     "metadata": {},
     "output_type": "execute_result"
    }
   ],
   "source": [
    "\"\"\"\n",
    "Data structure is a particular way to store the infofrmation in the computer.\n",
    "So that we can retrive the information\n",
    "\n",
    "1. Primitive data structure\n",
    "2. Non-primitive data structure ( Or Derived data structure as we derive from primitive)\n",
    "\n",
    "Primitive  further classified in to ------> int, char, float, pointer\n",
    "\n",
    "\n",
    "Non primitive is further classified in to ----> Array, List, Files\n",
    "List ---> Linear , Non Linear\n",
    "\n",
    "Linear ---> Stack, Queue\n",
    "Non-linear --> Tree, Graph\n",
    "\n",
    "\n",
    "\n",
    "\n",
    "\n",
    "\"\"\""
   ]
  },
  {
   "cell_type": "code",
   "execution_count": 5,
   "metadata": {},
   "outputs": [
    {
     "data": {
      "text/plain": [
       "'\\nPrimitive data structures are operated in the machine level\\n\\nNOn primitive data means they are derived from the primitive\\nEg I would like to have array \\nint arr[5]\\n\\n\\n ||||||||||||||||||||    if cal access only neighbor at a particular time it is called linear\\n \\n\\n'"
      ]
     },
     "execution_count": 5,
     "metadata": {},
     "output_type": "execute_result"
    }
   ],
   "source": [
    "\"\"\"\n",
    "Primitive data structures are operated in the machine level\n",
    "\n",
    "NOn primitive data means they are derived from the primitive\n",
    "Eg I would like to have array \n",
    "int arr[5]\n",
    "\n",
    "\n",
    " |||||||||0|||||||||||   here 0 is reference\n",
    " if we can access only neighbor at a particular time it is called linear\n",
    " \n",
    " \n",
    " if it is accessed to left of left left or right of right\n",
    " then it is called non linear data structure\n",
    "\n",
    "\"\"\""
   ]
  },
  {
   "cell_type": "code",
   "execution_count": null,
   "metadata": {},
   "outputs": [],
   "source": [
    "\"\"\"\n",
    "Liner DS \n",
    "every item is related to its previous item\n",
    "data is arranged in tho the linear sequence\n",
    "data items can be traversed in a single run\n",
    "implementation is easy\n",
    "\n",
    "NOn linear DS\n",
    "every item is attached with many other items\n",
    "data is not arranged in sequence\n",
    "ata  can  not  be traversed in a single run\n",
    "implementation is difficult\n",
    "\n",
    "\"\"\""
   ]
  },
  {
   "cell_type": "markdown",
   "metadata": {},
   "source": [
    "## Static and Dynamic Data Structure"
   ]
  },
  {
   "cell_type": "code",
   "execution_count": null,
   "metadata": {},
   "outputs": [],
   "source": [
    "\"\"\"\n",
    "Static DS are those whose size and structures associated memory locations \n",
    "are fixed, at the time of compilation\n",
    "example : while deine an array you should provde a size \n",
    "\n",
    "Dynamic DS are those which expands or shrinks depending upon the program\n",
    "need and its execution. Also their memory locations changes\n",
    "Example: Linked List created using pointer\n",
    "\n",
    "\"\"\""
   ]
  },
  {
   "cell_type": "markdown",
   "metadata": {},
   "source": [
    "# Homogeneous and Non Homogeneous  DS"
   ]
  },
  {
   "cell_type": "code",
   "execution_count": null,
   "metadata": {},
   "outputs": [],
   "source": [
    "\"\"\"\n",
    "In Homogeneous data structure, all of the elements are of the same type\n",
    "Example: array  -- > al element are of the same type\n",
    "\n",
    "\n",
    "In Non homogeneuos  DS the element may or may not be of the same type\n",
    "Example: structure\n",
    "\n",
    "\n",
    "\"\"\""
   ]
  },
  {
   "cell_type": "code",
   "execution_count": null,
   "metadata": {},
   "outputs": [],
   "source": [
    "\"\"\"\n",
    "What is a good algorithm? how to judge it\n",
    "What is the condition for the good algorithm or efficiency?\n",
    "1. Running time\n",
    "2. Space used\n",
    "\n",
    "the 2nd parameter space is not much importad as the memory is in the order of terabite\n",
    "\n",
    "\n",
    "\n",
    "\"\"\""
   ]
  },
  {
   "cell_type": "code",
   "execution_count": null,
   "metadata": {},
   "outputs": [],
   "source": [
    "\"\"\"\n",
    "Best/worst/average time for the algorithm\n",
    "suppose I have the following aray\n",
    "|1||||||||||||1||||||1||||||||||1|\n",
    " and it start to find the element from the left. If \n",
    " 1 is in the first left position, it takes least time which is the best case.\n",
    " If 1 is tha last toward right side it take most time as it start to search \n",
    " the elements from left.\n",
    " if 1 lies between the top most left and top most right it takes the average time\n",
    " The probability of occuring the average case is more difficult but for the first and last \n",
    " is simpler.\n",
    "\n",
    "\"\"\""
   ]
  },
  {
   "cell_type": "code",
   "execution_count": null,
   "metadata": {},
   "outputs": [],
   "source": [
    "\"\"\"\n",
    "Asymptoticcomplexity\n",
    "suppose we have the following function f(x)= 5x^2 + 6x + 10\n",
    "\n",
    "The basic rules 1.\n",
    "Drop all of the lower order terms\n",
    "2. Drop all of the constants\n",
    "\n",
    "lower order term is x and constants are 5,6 and 10\n",
    " say another example\n",
    "f(x)= 6x^2 + 10x + 20\n",
    "will have the same higher order term\n",
    "This will be the globally accepted time rule\n",
    "\"\"\""
   ]
  },
  {
   "cell_type": "code",
   "execution_count": null,
   "metadata": {},
   "outputs": [],
   "source": [
    "\"\"\"\n",
    "Time complexity notation\n",
    "Bih Oh notation asymptotic upper bound  ---> maximum time required by the algorithm\n",
    "\n",
    "\"\"\""
   ]
  },
  {
   "cell_type": "code",
   "execution_count": null,
   "metadata": {},
   "outputs": [],
   "source": [
    "\"\"\"\n",
    "Big omega notation represent the lower bound of the algorithm........minimiumtime for the algorithm\n",
    "\n",
    "\n",
    "\"\"\""
   ]
  },
  {
   "cell_type": "code",
   "execution_count": null,
   "metadata": {},
   "outputs": [],
   "source": [
    "\"\"\"\n",
    "Big theta notation average time\n",
    "\n",
    "\"\"\""
   ]
  },
  {
   "cell_type": "code",
   "execution_count": null,
   "metadata": {},
   "outputs": [],
   "source": [
    "\"\"\"\n",
    "Array in DSA\n",
    "aray is the collection of the variable sof the same data type\n",
    " collection of homogenes element\n",
    " you have to give the fixed size of array... predefind\n",
    " array is  a linear data structure\n",
    " \n",
    " \n",
    " |1|||||||||||||||10|\n",
    " \n",
    " suppose we have 10 eklement the first one is the zeroth one and the last one is the 9th \n",
    " \n",
    " \n",
    "\"\"\""
   ]
  },
  {
   "cell_type": "code",
   "execution_count": null,
   "metadata": {},
   "outputs": [],
   "source": [
    "\"\"\"\n",
    "calculate yhe address of particular element in the formula\n",
    "one dimensional array\n",
    "\n",
    "|0|1|2|3|4|\n",
    "\n",
    "LOC(A[i]) = BAse_addres + W*i\n",
    "The address of the first element is called the base address\n",
    " w  is the size of the array and i is the location\n",
    " base address is given\n",
    " \n",
    " NOte 2d array has the matrix format\n",
    " \n",
    "\"\"\""
   ]
  },
  {
   "cell_type": "markdown",
   "metadata": {},
   "source": [
    "# Stack"
   ]
  },
  {
   "cell_type": "code",
   "execution_count": null,
   "metadata": {},
   "outputs": [],
   "source": [
    "\"\"\"\n",
    "Stack is a linear data structure in which data items are \n",
    "inserted or deleted at one end only  called top of the stack\n",
    "\n",
    "\n",
    "\"\"\""
   ]
  },
  {
   "cell_type": "code",
   "execution_count": null,
   "metadata": {},
   "outputs": [],
   "source": [
    "\"\"\"\n",
    "Operation performed on stack\n",
    "Push operation --> add an item in the stack\n",
    "Pop operation --> remove an item from the stack\n",
    "\n",
    "top returns top element of stack\n",
    "\n",
    "isEmpty\n",
    "\n",
    "overflow --> suppose size of the stack is 5 and it has 5 element. if you add another which is the overflow \n",
    "condition\n",
    "\n",
    "underflow condition suppose stack 5 and all of the elements are poped... all of the elements are deleated.\n",
    "If you wand to delet e more\n",
    "but tere are no more elements.. called the underflow condition\n",
    "\n",
    "Any palce if you want to add elements need to check the overflow condition\n",
    "Any where when you do pop or delete elements need to check the underflow condition\n",
    "\n",
    "\"\"\""
   ]
  },
  {
   "cell_type": "code",
   "execution_count": null,
   "metadata": {},
   "outputs": [],
   "source": [
    "\"\"\"\n",
    "Implementation of stack\n",
    "\n",
    "generally, the implementation is at the memory level\n",
    "Tere are two ways for that \n",
    "1. By using Array(Static)\n",
    "By using linked List(Dynamic)\n",
    "\n",
    "\n",
    "\"\"\""
   ]
  },
  {
   "cell_type": "markdown",
   "metadata": {},
   "source": [
    "# Algorithms for the Push operation\n",
    "\n"
   ]
  },
  {
   "cell_type": "code",
   "execution_count": null,
   "metadata": {},
   "outputs": [],
   "source": [
    "\"\"\"\n",
    "PUSH_STACK(STACK.TOP,MAX,ITEM)\n",
    "1. IF TOP > MAX then\n",
    "print\" Stack is full, Overflow\" and return.\n",
    "2. TOP: =TOP+1 // increment top  ( when there is 0 element in the stack)\n",
    "3. STACK(TOP):=ITEM\n",
    "4. Exit\n",
    "\n",
    "\"\"\""
   ]
  },
  {
   "cell_type": "markdown",
   "metadata": {},
   "source": [
    "# Algorithm for the Pop operaton"
   ]
  },
  {
   "cell_type": "code",
   "execution_count": null,
   "metadata": {},
   "outputs": [],
   "source": [
    "\"\"\"\n",
    "1.IF TOP = 0 then\n",
    "print \" Stack is empty, Underflow\" and Return;\n",
    "2. ITEM = STACK(TOP)\n",
    "3. TOP: = TOP-1;// Decrement the TOP\n",
    "4. exit\n",
    "\n",
    "\n",
    "\"\"\""
   ]
  },
  {
   "cell_type": "markdown",
   "metadata": {},
   "source": [
    "# Analysis of Stack Operation"
   ]
  },
  {
   "cell_type": "code",
   "execution_count": null,
   "metadata": {},
   "outputs": [],
   "source": [
    "\"\"\"\n",
    "Push Operatio: O(1) // for these two  constant time complexity\n",
    "Pop Operatio: O(1)  /// this means it takes constant time for operation \n",
    "\n",
    "\n",
    "Top Operatio: O(1) //   same constant time complexity\n",
    "\n",
    "Search Operation: O(n) // linear time time complexity as it hs to linearyly from top to bottom\n",
    "search might be linear or binary\n",
    "\n",
    "\"\"\""
   ]
  },
  {
   "cell_type": "markdown",
   "metadata": {},
   "source": [
    "# Application of the stack"
   ]
  },
  {
   "cell_type": "code",
   "execution_count": null,
   "metadata": {},
   "outputs": [],
   "source": [
    "\"\"\"\n",
    "1. Balancing of symbols\n",
    "2. Redo-undo features at many places like editors photodhop\n",
    "3. forward and backwardfeatures int  the web  browsers\n",
    "4. used in may Algorithms like Tower of Hanoi, tree traversals, DFS Serach\n",
    " \n",
    " 5. COnversion of the polish notations\n",
    "     infix notation - operator is in between the operands: x + y\n",
    "     prefix notation -operator is in between the operands  + xy\n",
    "     postfix notation - operator is in between the operands: xy \n",
    "     \n",
    "6. To reverse a string\n",
    "    when function(sub-program )is called\n",
    "\n",
    "\n",
    "\n",
    "\"\"\""
   ]
  },
  {
   "cell_type": "markdown",
   "metadata": {},
   "source": [
    "# Tower of Hanoi"
   ]
  },
  {
   "cell_type": "code",
   "execution_count": null,
   "metadata": {},
   "outputs": [],
   "source": [
    "\"\"\"\n",
    "Suppos I have 3 towers, A, B, C and  A is filled with the n number of circular\n",
    "disks. The bootm disc is larger and radius decreasing continuously.\n",
    "now we need to transfer them from A to C\n",
    "\n",
    "\n",
    "Trensfer rule\n",
    "1. one time only one disc wil be transfered\n",
    "2. the large disc should not be above the small disc\n",
    "\n",
    "if 3 disc total transactions will be 7\n",
    "  formula for # of transction  2^n - 1   n is number of disc\n",
    "\"\"\""
   ]
  },
  {
   "cell_type": "markdown",
   "metadata": {},
   "source": [
    "# Recursive method to solve the Tower of Hanoi"
   ]
  },
  {
   "cell_type": "code",
   "execution_count": null,
   "metadata": {},
   "outputs": [],
   "source": [
    "\"\"\"\n",
    "Tower( N, Beg, Aug, End)   // N no of disc, Beg-- beginning pag,\n",
    "Aug--- auxlary pag and end pag( pag = tower)\n",
    "\n",
    "step 1 (N-1) number of disc willbe transfered from Beg to Aux with the help \n",
    "of End\n",
    "\n",
    "2ns step  Aux to End with the help of Beg\n",
    "\n",
    "eg we have 3 disc\n",
    "Tower(3,A,B,C)                   Transaction # 1\n",
    "x1= first task(2,A,C,B) that is A to B with the help of c #2\n",
    "y1= 2nd step (2,B,A,C) tht is B to C with the help of A  #3\n",
    "\n",
    "Again first task that is x1\n",
    " 1st step Tower(1,A,B,C) A To C  #4\n",
    " 2nd step Tower(1,C,A,B)  C to B  #5\n",
    " \n",
    " same for y1 \n",
    " 1st step Tower(1,B,C,A) B To A  #6\n",
    " 2nd step Tower(1,A,B,C)  A to  C  #7\n",
    " \n",
    " no further transatcion as we reached disc 1\n",
    "\n",
    "Here total transaction = 7\n",
    "\n",
    "\n",
    "\"\"\""
   ]
  },
  {
   "cell_type": "markdown",
   "metadata": {},
   "source": [
    "# 7 Evaluation  of postfix and prefix Expression using stack"
   ]
  },
  {
   "cell_type": "code",
   "execution_count": null,
   "metadata": {},
   "outputs": [],
   "source": [
    "\"\"\"\n",
    "infix to postfix\n",
    "\n",
    "consider an expression written in infix notation\n",
    "Ex: (A+B) + (C-D)/G     Infix\n",
    "where A = 6 , B= 4, c = 6 D = 2,G=2\n",
    "\n",
    "ans =  12\n",
    "\n",
    "lets change the given in the post fix \n",
    "AB+ + CD-/G    post fix notation\n",
    "\n",
    "there are two operators + just before CD and /    AB+ is the operand\n",
    "here highest priority operetor is divide , so do divide first  next operator is + will be the second one\n",
    "AB + CD-G/+  this is the final post fix operation\n",
    "Now substitute the values first\n",
    "6 4 + 6 2 -2 /+\n",
    "\n",
    "NOw from left to right write each variable in the following table\n",
    "\n",
    "\n",
    "\n",
    "exp p               stack       here p is just name\n",
    "6                   6\n",
    "4                   6,4\n",
    "+                   10\n",
    "6                   10,6\n",
    "2                   10,6,2         2 is the top of the element and 6 is the next to top of the element\n",
    "-                   10,4\n",
    "2                   10,4,2\n",
    "/                   10, 2      because 4/2 = 2\n",
    "+                   12\n",
    "\n",
    "\n",
    "\n",
    "\n",
    "The algorithem : if operends encounter put in to the right column\n",
    "if operetor encounter do B operates on A\n",
    "\n",
    "A is the top of the element and B is the next to top of the element\n",
    "\"\"\""
   ]
  },
  {
   "cell_type": "code",
   "execution_count": null,
   "metadata": {},
   "outputs": [],
   "source": [
    "\"\"\"\n",
    "infix to prefix notation\n",
    "Lets take the same example wedid in the last cell\n",
    "\n",
    "consider an expression written in infix notation\n",
    "Ex: (A+B) + (C-D)/G     Infix\n",
    "where A = 6 , B= 4, c = 6 D = 2,G=2\n",
    "\n",
    "ans =  12\n",
    "\n",
    "lets change the given in the prefix \n",
    "Bracket has the highest priority\n",
    "+AB + (-CD)/G    post fix notation\n",
    "\n",
    "Here +AB and (-CD) are the operands and rest the +  and that of / are the operators\n",
    "Divide has the highest priority\n",
    "+AB + /-CDG \n",
    "+ +AB /-CDG it is the desired prefix expression\n",
    "\n",
    "lets reverse the whole expression.. need to be reversed\n",
    "GDC-/ BA+ +\n",
    "\n",
    "2 2 6 -/ 4 6++\n",
    "\n",
    "Now fill the table\n",
    "\n",
    "exp p    stack \n",
    "2        2\n",
    "2        2,2\n",
    "6        2,2,6  \n",
    "-        2,4                              B operands A      6 - 2 = 4\n",
    "/       2                                                    4/2\n",
    "4       2,4\n",
    "6       2,4,6\n",
    "+       2,10                        6+4 = 10\n",
    "+       12\n",
    "\n",
    "\n",
    "Same rule B operands A \n",
    "Here B is the top element and A is the next to top of the element\n",
    "\n",
    "\n",
    "\n",
    "\n",
    " Note for both prefix and that of post fix you  will get the same result\n",
    "\n",
    "\n",
    "\"\"\""
   ]
  },
  {
   "cell_type": "markdown",
   "metadata": {},
   "source": [
    "# converting Infix expression to Postfix expression"
   ]
  },
  {
   "cell_type": "code",
   "execution_count": null,
   "metadata": {},
   "outputs": [],
   "source": [
    "\"\"\"\n",
    "here are two examples\n",
    "1) ((A-B)*D) $ ((E+F)/G)\n",
    "2) A + (B*C+ (D/E$F)/G)/H\n",
    "\n",
    "lets take the first example\n",
    "\n",
    " ((A-B)*D) $ ((E+F)/G)  highest priority goes to ()  and then +-  , /* , $ exp\n",
    " priority goes from left to right\n",
    "  but if we have + and - then priority goes from L-> R and same for / and * opposite for $ ,exp\n",
    "  \n",
    "lets do the post fix conversion\n",
    "(AB- *D) $ ((EF+)/G      here AB- and EF+ are the single operands\n",
    "(AB-D*) $ (EF+G/)  here operands are in the ()\n",
    "AB-D*EF+G/$  this is the post fix   operation\n",
    "((-AB)*D) $ ((+EF)/G)\n",
    "(*-ABD) $ (/+EFG)\n",
    "$*-ABD /+EFG   prefix expression\n",
    "\n",
    "2) the final answer is \n",
    "ABC*D EF$/G/+H/+  is the postfix expression\n",
    "\n",
    "\n",
    "\n",
    "\"\"\""
   ]
  },
  {
   "cell_type": "markdown",
   "metadata": {},
   "source": [
    "# converting Infix expression to Postfix expression (Stack Concept)"
   ]
  },
  {
   "cell_type": "code",
   "execution_count": null,
   "metadata": {},
   "outputs": [],
   "source": [
    "\"\"\"\n",
    "example:\n",
    "        (A -B$D )/ E+F -G\n",
    "\n",
    "exp Q      stack                 exp P\n",
    "           (\n",
    "(         ((\n",
    "A         ((                          A\n",
    "-         ((\n",
    "B          ((-                      AB\n",
    "$          ((-$                     AB\n",
    "D          ((-$                     ABD\n",
    ")           (                       ABD$-     one open close parenthesis cancelled and -$ goes to P\n",
    "/            (/                     ABD$-\n",
    "E            (/                     ABD$-E\n",
    "+            (+                     ABD$-E/       is not allowed /+ or same priority operator +,+\n",
    "F            (+                     ABD$-E/F\n",
    "-           ( -                     ABD$-E/F +       + and - has equal priority\n",
    "G            (-                     ABD$-E/F+G\n",
    ")                                   ABD$-E/F+G- open '(' cancelled the closed ')'\n",
    "\"\"\""
   ]
  },
  {
   "cell_type": "markdown",
   "metadata": {},
   "source": [
    "# Queue"
   ]
  },
  {
   "cell_type": "code",
   "execution_count": null,
   "metadata": {},
   "outputs": [],
   "source": [
    "\"\"\"\n",
    "1. Queue is a linear data structure\n",
    "2. Restricted DS ----> insertion at one end and deltion other end\n",
    "3. Queue is based on FEFO concept .. first in first out\n",
    "4. place element insertionis rear   place where element deletion front\n",
    "5. each case that insertion or delation case increment never decrement\n",
    "R = R+1  R is rear\n",
    "F = F+1   zf is front place\n",
    "\n",
    "Lets understand queue by an example\n",
    "\n",
    "assume size of the Queue is 4\n",
    "initially it is empty\n",
    "\n",
    "____________________________\n",
    "\n",
    "\n",
    "_____________________________\n",
    "R =0                       F=0\n",
    "\n",
    "initially both F and R are 0\n",
    "\n",
    "lets enter an element A to the rare end\n",
    "\n",
    "\n",
    "____________________________\n",
    "\n",
    "A                             when both Fand R not = 0 repersentsingle element\n",
    "_____________________________\n",
    "R = 1                      F=1\n",
    "\n",
    "lets 3 more element\n",
    "\n",
    "____________________________\n",
    "\n",
    "D   C    B    A              when rear = max size of Queue and F= 1 indication of overflow              \n",
    "_____________________________\n",
    "R = 4                     F=1\n",
    "\n",
    "\n",
    "lets delete element A\n",
    "\n",
    "____________________________________\n",
    "\n",
    "D   C    B                               \n",
    "____________________________________\n",
    "R = 4                     F=2\n",
    "\n",
    "lets delete 2 more elements \n",
    "____________________________________\n",
    "               here queue has 1 element means has empty space but cannot add additinal  element as R =4\n",
    "D                            \n",
    "___________________________________\n",
    "R = 4                     F=4\n",
    "\n",
    "again R = F =4 indicates it has on element\n",
    "when remove the last element, set both R=F = 0\n",
    "\n",
    "underflow condition\n",
    "When F =0 underflow condition\n",
    "\n",
    "\n",
    "\n",
    "\n",
    "\"\"\""
   ]
  },
  {
   "cell_type": "code",
   "execution_count": null,
   "metadata": {},
   "outputs": [],
   "source": [
    "\"\"\"\n",
    "Linear Queue has a disadvantage\n",
    "when R = F = N say simply N = 4, the Queue has empty space but we cannot add additional \n",
    "element as the R is already in its limit eventhough there is some \n",
    "empty space\n",
    "\n",
    "\"\"\""
   ]
  },
  {
   "cell_type": "markdown",
   "metadata": {},
   "source": [
    "# Circular Queue removes the disadvantage of linear queue"
   ]
  },
  {
   "cell_type": "code",
   "execution_count": null,
   "metadata": {},
   "outputs": [],
   "source": [
    "\"\"\"\n",
    "lets say max size of the Queue is 5\n",
    "for 1st element insertion increase the value of Rear\n",
    "and front by 1. for newxt additional element insertion increase the value of Rear by 1 (F not change)\n",
    "For the deletion of each elements increase the value of front by 1( R not change)\n",
    "\n",
    "we insert 5 elements, so, Rear ie 5 and front is 1  which indicates that Queue is now in the \n",
    "overflow condition\n",
    " |A|B|C|D|E|\n",
    " R=5      \n",
    " F=1\n",
    " \n",
    " Now assume 3 elements are deleated\n",
    " first A inserted so A will be deleted\n",
    " So the value of front will be updated by 3\n",
    " \n",
    " ||||D|E|\n",
    " R=5\n",
    " F=4\n",
    " \n",
    " Lets insert another element G\n",
    " |G|||D|E|\n",
    " R=1     rear will start from 1\n",
    " F=4\n",
    " \n",
    " Still space for two more elements\n",
    " \n",
    " |G|H|I|D|E|\n",
    " R=3\n",
    " F=4   this is the overflow condition which is  F = R+1\n",
    " \n",
    " Overflow condition\n",
    " R = max ( occupied all of element) & F =1 \n",
    " F = R+1\n",
    " \n",
    " \n",
    " lets delete some elements.\n",
    " D first inserted , willbe deleted first\n",
    " |G|H|I|||\n",
    " R =3\n",
    " F= 1\n",
    " \n",
    " \n",
    " F was 4 before. removing D means F = 5. Again deleting E make the F =1\n",
    " R remains the same\n",
    " \n",
    " Now delete 2 more elements G and H\n",
    " \n",
    " R= 3 & F=3 only one element I is present\n",
    " This condition R =F  != 0 only one element is present\n",
    " when R = F = 0 empty condition\n",
    " \n",
    " \n",
    " By this way all of the memory will be used\n",
    " \n",
    " \n",
    " \n",
    "\n",
    "\"\"\""
   ]
  },
  {
   "cell_type": "markdown",
   "metadata": {},
   "source": [
    "# Circular Queue Algorithm for insertion and deletion"
   ]
  },
  {
   "cell_type": "code",
   "execution_count": null,
   "metadata": {},
   "outputs": [],
   "source": [
    "\"\"\"\n",
    "QI(Queue,N, F,R, i)  N is the size of the Queue, i is the item to be inserted in Queue\n",
    "first check the following\n",
    "insertion --->overflow condition\n",
    "deletion ----->underflow\n",
    "\n",
    "1. if F = R, R =N or F=R+1 overflow and return\n",
    "\n",
    "2. if F = null  set F = 1, R= 1\n",
    "else if R = N then \n",
    "set R =1\n",
    "else R = R+1\n",
    "\n",
    "3. set Queue[R]= i    item\n",
    "4. return\n",
    "\n",
    "\n",
    "++++++++++++++++++++++++++++++++++++++++++++++++++\n",
    "deletion algorithm\n",
    "+++++++++++++++++++++++++++++++++++++++++++++++++++\n",
    "QD(Queue,N,F,R,i)  i is the item\n",
    "1. if F = null wriet underflow and return\n",
    "\n",
    "\n",
    "2.set i = Queue[i]    .. deletion \n",
    "3.\n",
    "if F = R !=null\n",
    "set F=R=Null\n",
    "else if F = N set\n",
    "F=1\n",
    "else F = F+1\n",
    "Return\n",
    "\n",
    "\"\"\""
   ]
  },
  {
   "cell_type": "markdown",
   "metadata": {},
   "source": [
    "# Linked List(12)"
   ]
  },
  {
   "cell_type": "code",
   "execution_count": null,
   "metadata": {},
   "outputs": [],
   "source": [
    "\"\"\"\n",
    "  it is a linear data structure. It is the collection of serial connected nodes. or chain of nodes.\n",
    "  connected nodes. if not connected that is not the linked list\n",
    "  Node: The following is the node structure. every node in the linked list is divided in to two parts.\n",
    " \n",
    " Data          information\n",
    "-----------------------\n",
    "            |   \n",
    " 1          |     2\n",
    "-----------------------\n",
    "\n",
    "1 is the information of data \n",
    "2 is the linked field or the Next pointer field. means the next node address will be saved here.\n",
    "\n",
    "first part  is data part and 2nd part is address of the next node.\n",
    "\n",
    "Number of nodes might me infinite\n",
    "\n",
    "consider 4 nodes\n",
    "\n",
    "-------------\n",
    "100             note: this is not a node. it is a pointer\n",
    "start pointer\n",
    "---------------\n",
    "\n",
    "\n",
    "\n",
    "--------------         ------------------           ----------------------                -------------------\n",
    " A    | 102              B     |   104                 C     |  108                       D       | null node\n",
    "--------------        -------------------           ----------------------                --------------------\n",
    "100                            102                          104                                 108\n",
    "\n",
    "suppose 100 is the address of first node 102 is the address of second node and so on. \n",
    "Now 102 will be savedin the 2nd part of first node and the 2nd part of last node will be empty as no next node\n",
    "null pointer or null node is represented by X sign (cross sign)\n",
    "\n",
    "How the address of the 1st node\n",
    "\n",
    "we have a start pointer\n",
    "which is a special pointer variable which strore the initial address of the linked list\n",
    "\n",
    "Finally I am going to fill the above linked list with some variable A B, C  and D\n",
    "here A .. D are the data point.\n",
    "Hare it is a series . If one part is broke then it won't be a linked list\n",
    "\n",
    "\n",
    "Suppose you have a array or lined list structure\n",
    "\n",
    "Difference between the  Array and  linked list  \n",
    "\n",
    "\n",
    "Array                                                         linked list\n",
    "\n",
    "Static DS                                                      Dynamic DS\n",
    "Insertion and deletion very difficult                          Easy in LL\n",
    "Memory utilization is poor                                     very efficient\n",
    "Array uses less space                                        LL uses more space\n",
    "Searching is easy                                             Difficult is LL\n",
    "\n",
    "\n",
    "static means you have to tell the program about the memory before compile\n",
    "in case of dynamic.. run time mamory can be provided\n",
    "\n",
    "\n",
    "\"\"\""
   ]
  },
  {
   "cell_type": "markdown",
   "metadata": {},
   "source": [
    "# Circular Linked List(13)"
   ]
  },
  {
   "cell_type": "code",
   "execution_count": null,
   "metadata": {},
   "outputs": [],
   "source": [
    "\"\"\"\n",
    "There are some points where the linear linked list get failed \n",
    "eg suppose we have a linked list with 3 nodes and you are in the second node.\n",
    "If you want to move back to first node , that is not possible\n",
    "That is reerse is not possible.\n",
    "\n",
    "headre node\n",
    "   ---------  --------------  ------------\n",
    " ----> |          |                 |<-------|\n",
    " |   --------   ---------------  ----------  |\n",
    " |                                           |\n",
    " |                                           |\n",
    "  -----------------------------------------------\n",
    "\n",
    "In case of linear linked listthe last node has the null address,but here lsat node contain the address of the \n",
    "first nod. None of the node has the null address.\n",
    "\n",
    "Header node: \n",
    "start node has the address of the first node\n",
    "the way to find the first node in the circular LL\n",
    "TAke an external pointer and store the address of the \n",
    "first node in the pointer.\n",
    "The efficiend way is assume the put a dummy value in the first node\n",
    "suppose the nodes has values A,B,C and then put the first node has the value -1 which is di\n",
    "fferent than rest of the values. So it will be easy to find the first node\n",
    "\n",
    "\n",
    "each node contains the valid address.\n",
    "\n",
    "\n",
    "advantage                                   Disadvantage\n",
    "we can go to any node in  CLL               Not easy to reverse       \n",
    "save the time to go to first to last node    may go eto the infinite loop\n",
    "All of the node has the valid address\n",
    "\n",
    "\"\"\""
   ]
  },
  {
   "cell_type": "markdown",
   "metadata": {},
   "source": [
    "# Doubly linked list"
   ]
  },
  {
   "cell_type": "code",
   "execution_count": null,
   "metadata": {},
   "outputs": [],
   "source": [
    "\"\"\"\n",
    "In doubly linked list each node is divided in to 3 parts\n",
    " 1st part contains the previous node address, the middle part contains the data and 3rd part \n",
    " contains the address of the next part\n",
    "\n",
    "actually it has two lists one moves toward forward direction and another in the backwards direction\n",
    "So we have two pointer variable which contain the address of the starting list\n",
    "Here we have two null pointer one for forward list and the other for backward list\n",
    "\n",
    "\n",
    "Lets see how it implement on the memory\n",
    "\n",
    "-----                                   ----------\n",
    " 100                                       106\n",
    "------                                  ----------\n",
    "\n",
    "-------     ------------  ----------- ---------\n",
    " |  |102   100|    |104    102  | 106  104 | | X\n",
    "--------    ------------   ----------- --------\n",
    " 100          102             104        106\n",
    " \n",
    " \n",
    " \n",
    " suppose the address of the first node is 100 and 2nd node is 102 and so on\n",
    "\n",
    "now you can put the data on it. Suppose A, B, C D are the data part\n",
    "in the first and last there will be a null pointer\n",
    "1 null pointer for the forward list and one for the bckward list\n",
    "\n",
    "\n",
    "Advantage                                 Disadvantage\n",
    "can traverse in both direction            require more space      \n",
    "easy to reverse                            insertion & deleton more complex\n",
    "easy to reach the previous node             takes more time\n",
    "it is safe\n",
    "\n",
    "\"\"\""
   ]
  },
  {
   "cell_type": "markdown",
   "metadata": {},
   "source": [
    "# Trees in Data structure"
   ]
  },
  {
   "cell_type": "code",
   "execution_count": null,
   "metadata": {},
   "outputs": [],
   "source": []
  },
  {
   "cell_type": "code",
   "execution_count": null,
   "metadata": {},
   "outputs": [],
   "source": []
  },
  {
   "cell_type": "code",
   "execution_count": null,
   "metadata": {},
   "outputs": [],
   "source": []
  },
  {
   "cell_type": "code",
   "execution_count": null,
   "metadata": {},
   "outputs": [],
   "source": []
  },
  {
   "cell_type": "code",
   "execution_count": null,
   "metadata": {},
   "outputs": [],
   "source": []
  },
  {
   "cell_type": "code",
   "execution_count": null,
   "metadata": {},
   "outputs": [],
   "source": []
  },
  {
   "cell_type": "code",
   "execution_count": null,
   "metadata": {},
   "outputs": [],
   "source": []
  }
 ],
 "metadata": {
  "kernelspec": {
   "display_name": "Python 3",
   "language": "python",
   "name": "python3"
  },
  "language_info": {
   "codemirror_mode": {
    "name": "ipython",
    "version": 3
   },
   "file_extension": ".py",
   "mimetype": "text/x-python",
   "name": "python",
   "nbconvert_exporter": "python",
   "pygments_lexer": "ipython3",
   "version": "3.7.1"
  }
 },
 "nbformat": 4,
 "nbformat_minor": 2
}
